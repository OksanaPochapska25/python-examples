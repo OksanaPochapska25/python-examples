{
  "nbformat": 4,
  "nbformat_minor": 0,
  "metadata": {
    "colab": {
      "provenance": [],
      "authorship_tag": "ABX9TyMEOe+ui2fnkxdWQAfJ3mxL",
      "include_colab_link": true
    },
    "kernelspec": {
      "name": "python3",
      "display_name": "Python 3"
    },
    "language_info": {
      "name": "python"
    }
  },
  "cells": [
    {
      "cell_type": "markdown",
      "metadata": {
        "id": "view-in-github",
        "colab_type": "text"
      },
      "source": [
        "<a href=\"https://colab.research.google.com/github/OksanaPochapska25/python-examples/blob/master/example03.ipynb\" target=\"_parent\"><img src=\"https://colab.research.google.com/assets/colab-badge.svg\" alt=\"Open In Colab\"/></a>"
      ]
    },
    {
      "cell_type": "code",
      "execution_count": 1,
      "metadata": {
        "colab": {
          "base_uri": "https://localhost:8080/"
        },
        "id": "VCb8ic1HXxjh",
        "outputId": "c99ecdd8-614f-4083-9c6e-0423247d0157"
      },
      "outputs": [
        {
          "output_type": "stream",
          "name": "stdout",
          "text": [
            "--2024-02-08 20:34:54--  http://security.ubuntu.com/ubuntu/pool/main/o/openssl/libssl1.1_1.1.0g-2ubuntu4_amd64.deb\n",
            "Resolving security.ubuntu.com (security.ubuntu.com)... 91.189.91.83, 185.125.190.36, 91.189.91.82, ...\n",
            "Connecting to security.ubuntu.com (security.ubuntu.com)|91.189.91.83|:80... connected.\n",
            "HTTP request sent, awaiting response... 200 OK\n",
            "Length: 1128092 (1.1M) [application/vnd.debian.binary-package]\n",
            "Saving to: ‘libssl1.1_1.1.0g-2ubuntu4_amd64.deb.1’\n",
            "\n",
            "libssl1.1_1.1.0g-2u 100%[===================>]   1.08M  2.50MB/s    in 0.4s    \n",
            "\n",
            "2024-02-08 20:34:55 (2.50 MB/s) - ‘libssl1.1_1.1.0g-2ubuntu4_amd64.deb.1’ saved [1128092/1128092]\n",
            "\n",
            "(Reading database ... 122664 files and directories currently installed.)\n",
            "Preparing to unpack .../libssl1.1_1.1.0g-2ubuntu4_amd64.deb ...\n",
            "Unpacking libssl1.1:amd64 (1.1.0g-2ubuntu4) over (1.1.0g-2ubuntu4) ...\n",
            "Setting up libssl1.1:amd64 (1.1.0g-2ubuntu4) ...\n",
            "debconf: unable to initialize frontend: Dialog\n",
            "debconf: (No usable dialog-like program is installed, so the dialog based frontend cannot be used. at /usr/share/perl5/Debconf/FrontEnd/Dialog.pm line 78.)\n",
            "debconf: falling back to frontend: Readline\n",
            "debconf: unable to initialize frontend: Readline\n",
            "debconf: (This frontend requires a controlling tty.)\n",
            "debconf: falling back to frontend: Teletype\n",
            "Processing triggers for libc-bin (2.35-0ubuntu3.4) ...\n",
            "/sbin/ldconfig.real: /usr/local/lib/libtbb.so.12 is not a symbolic link\n",
            "\n",
            "/sbin/ldconfig.real: /usr/local/lib/libtbbbind.so.3 is not a symbolic link\n",
            "\n",
            "/sbin/ldconfig.real: /usr/local/lib/libtbbbind_2_0.so.3 is not a symbolic link\n",
            "\n",
            "/sbin/ldconfig.real: /usr/local/lib/libtbbbind_2_5.so.3 is not a symbolic link\n",
            "\n",
            "/sbin/ldconfig.real: /usr/local/lib/libtbbmalloc.so.2 is not a symbolic link\n",
            "\n",
            "/sbin/ldconfig.real: /usr/local/lib/libtbbmalloc_proxy.so.2 is not a symbolic link\n",
            "\n"
          ]
        }
      ],
      "source": [
        "!wget http://security.ubuntu.com/ubuntu/pool/main/o/openssl/libssl1.1_1.1.0g-2ubuntu4_amd64.deb\n",
        "!sudo dpkg -i ./libssl1.1_1.1.0g-2ubuntu4_amd64.deb"
      ]
    },
    {
      "cell_type": "code",
      "source": [
        "!sudo apt-get update && apt-get install -y libgdiplus"
      ],
      "metadata": {
        "colab": {
          "base_uri": "https://localhost:8080/"
        },
        "id": "VQ7N7nEXacq0",
        "outputId": "5ea87e9e-c9a7-4fab-fb33-95ee4d9398b6"
      },
      "execution_count": 2,
      "outputs": [
        {
          "output_type": "stream",
          "name": "stdout",
          "text": [
            "\r0% [Working]\r            \rHit:1 https://cloud.r-project.org/bin/linux/ubuntu jammy-cran40/ InRelease\n",
            "\r0% [Connecting to archive.ubuntu.com (91.189.91.81)] [Connecting to security.ub\r                                                                               \rHit:2 https://developer.download.nvidia.com/compute/cuda/repos/ubuntu2204/x86_64  InRelease\n",
            "\r0% [Waiting for headers] [Waiting for headers] [Connecting to ppa.launchpadcont\r                                                                               \rHit:3 http://security.ubuntu.com/ubuntu jammy-security InRelease\n",
            "\r0% [Waiting for headers] [Connecting to ppa.launchpadcontent.net (185.125.190.8\r                                                                               \rHit:4 http://archive.ubuntu.com/ubuntu jammy InRelease\n",
            "Hit:5 http://archive.ubuntu.com/ubuntu jammy-updates InRelease\n",
            "Hit:6 http://archive.ubuntu.com/ubuntu jammy-backports InRelease\n",
            "Hit:7 https://ppa.launchpadcontent.net/c2d4u.team/c2d4u4.0+/ubuntu jammy InRelease\n",
            "Hit:8 https://ppa.launchpadcontent.net/deadsnakes/ppa/ubuntu jammy InRelease\n",
            "Hit:9 https://ppa.launchpadcontent.net/graphics-drivers/ppa/ubuntu jammy InRelease\n",
            "Hit:10 https://ppa.launchpadcontent.net/ubuntugis/ppa/ubuntu jammy InRelease\n",
            "Reading package lists... Done\n",
            "Reading package lists... Done\n",
            "Building dependency tree... Done\n",
            "Reading state information... Done\n",
            "libgdiplus is already the newest version (6.0.4+dfsg-2).\n",
            "0 upgraded, 0 newly installed, 0 to remove and 35 not upgraded.\n"
          ]
        }
      ]
    },
    {
      "cell_type": "code",
      "source": [
        "!sudo apt-get install -y ttf-mscorefonts-installer fontconfig"
      ],
      "metadata": {
        "colab": {
          "base_uri": "https://localhost:8080/"
        },
        "id": "sYoqO-vAZHFc",
        "outputId": "36bbf17a-3d47-4ab9-fb01-7b8fdc6914d4"
      },
      "execution_count": 3,
      "outputs": [
        {
          "output_type": "stream",
          "name": "stdout",
          "text": [
            "Reading package lists... Done\n",
            "Building dependency tree... Done\n",
            "Reading state information... Done\n",
            "fontconfig is already the newest version (2.13.1-4.2ubuntu5).\n",
            "ttf-mscorefonts-installer is already the newest version (3.8ubuntu2).\n",
            "0 upgraded, 0 newly installed, 0 to remove and 35 not upgraded.\n"
          ]
        }
      ]
    },
    {
      "cell_type": "code",
      "source": [
        "!pip install aspose-pdf"
      ],
      "metadata": {
        "colab": {
          "base_uri": "https://localhost:8080/"
        },
        "id": "cMpkE5dKbAD7",
        "outputId": "4474e312-45af-49f3-ca22-60cc60aeb638"
      },
      "execution_count": 4,
      "outputs": [
        {
          "output_type": "stream",
          "name": "stdout",
          "text": [
            "Requirement already satisfied: aspose-pdf in /usr/local/lib/python3.10/dist-packages (24.1.0)\n"
          ]
        }
      ]
    },
    {
      "cell_type": "code",
      "source": [
        "import aspose.pdf as ap\n",
        "import aspose.pdf.text as aptext\n",
        "input_pdf = \"/content/Sample-Document.pdf\"\n",
        "output_pdf = \"/content/Sample-Document.pdf.xlsx\"\n",
        "folder_source = aptext.FolderFontSource(\"/usr/share/fonts/truetype/msttcorefonts\")\n",
        "aptext.FontRepository.sources.append(folder_source)"
      ],
      "metadata": {
        "id": "MMVKx54cYDDF"
      },
      "execution_count": 5,
      "outputs": []
    },
    {
      "cell_type": "code",
      "source": [
        "# Open PDF document\n",
        "document = ap.Document(input_pdf)\n",
        "# Save the file into MS Excel format\n",
        "save_option = ap.ExcelSaveOptions()\n",
        "document.save(output_pdf, save_option)"
      ],
      "metadata": {
        "id": "Esv0e4irYFnj"
      },
      "execution_count": 6,
      "outputs": []
    }
  ]
}